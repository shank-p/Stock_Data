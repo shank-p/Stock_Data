{
  "nbformat": 4,
  "nbformat_minor": 0,
  "metadata": {
    "colab": {
      "name": "Stock_Data.ipynb",
      "provenance": [],
      "collapsed_sections": [],
      "authorship_tag": "ABX9TyO2vj8pB9KT/d19ZnSDdbxr",
      "include_colab_link": true
    },
    "kernelspec": {
      "name": "python3",
      "display_name": "Python 3"
    },
    "language_info": {
      "name": "python"
    }
  },
  "cells": [
    {
      "cell_type": "markdown",
      "metadata": {
        "id": "view-in-github",
        "colab_type": "text"
      },
      "source": [
        "<a href=\"https://colab.research.google.com/github/shank-p/Stock_Data/blob/main/Stock_Data.ipynb\" target=\"_parent\"><img src=\"https://colab.research.google.com/assets/colab-badge.svg\" alt=\"Open In Colab\"/></a>"
      ]
    },
    {
      "cell_type": "markdown",
      "source": [
        "# **Analysis of Stock**\n",
        "  we are *collecting , cleaning , mapping* the stock of intrest : **AMD** \n",
        "  \n",
        "  the data collected is from **2015-1-1 upto 2022-1-1**"
      ],
      "metadata": {
        "id": "7lAnsLCj4Lzs"
      }
    },
    {
      "cell_type": "code",
      "source": [
        "pip install --upgrade pandas"
      ],
      "metadata": {
        "id": "6JEQRnkv4q69"
      },
      "execution_count": null,
      "outputs": []
    },
    {
      "cell_type": "code",
      "source": [
        "pip install --upgrade pandas_datareader"
      ],
      "metadata": {
        "id": "47PWD3cI5B5u"
      },
      "execution_count": null,
      "outputs": []
    },
    {
      "cell_type": "code",
      "source": [
        "pip install yfinance --upgrade --no-cache-dir"
      ],
      "metadata": {
        "id": "J9qqqzLe7uz-"
      },
      "execution_count": null,
      "outputs": []
    },
    {
      "cell_type": "code",
      "source": [
        "# importing modules\n",
        "\n",
        "import pandas as pd\n",
        "import datetime as dt\n",
        "from datetime import date, timedelta\n",
        "import matplotlib.pyplot as plt\n",
        "\n",
        "from pandas_datareader import data as pdr\n",
        "import yfinance as yf\n",
        "\n",
        "yf.pdr_override()"
      ],
      "metadata": {
        "id": "ZOWP471u5HXa"
      },
      "execution_count": null,
      "outputs": []
    },
    {
      "cell_type": "code",
      "source": [
        "# collect data : AMD\n",
        "\n",
        "company = 'AMD'\n",
        "\n",
        "end = date.today() \n",
        "data = pdr.get_data_yahoo(company, start='2010-01-01', end=end)\n",
        "\n",
        "print(data)\n",
        "print('shape : ', data.shape)"
      ],
      "metadata": {
        "colab": {
          "base_uri": "https://localhost:8080/"
        },
        "id": "MKg--erd8JfZ",
        "outputId": "ac982077-a5fd-4a7f-d7e0-76b5d24ba5e8"
      },
      "execution_count": null,
      "outputs": [
        {
          "output_type": "stream",
          "name": "stdout",
          "text": [
            "\r[*********************100%***********************]  1 of 1 completed\n",
            "                  Open        High         Low       Close   Adj Close  \\\n",
            "Date                                                                     \n",
            "2010-01-04    9.790000    9.900000    9.680000    9.700000    9.700000   \n",
            "2010-01-05    9.710000    9.900000    9.680000    9.710000    9.710000   \n",
            "2010-01-06    9.680000    9.760000    9.550000    9.570000    9.570000   \n",
            "2010-01-07    9.510000    9.550000    9.180000    9.470000    9.470000   \n",
            "2010-01-08    9.370000    9.470000    9.290000    9.430000    9.430000   \n",
            "...                ...         ...         ...         ...         ...   \n",
            "2022-03-15  102.660004  109.690002  101.790001  109.330002  109.330002   \n",
            "2022-03-16  111.599998  115.419998  109.889999  115.370003  115.370003   \n",
            "2022-03-17  112.139999  114.269997  109.709999  111.690002  111.690002   \n",
            "2022-03-18  111.279999  114.930000  110.550003  113.459999  113.459999   \n",
            "2022-03-21  113.730003  117.570000  112.540001  115.919998  115.919998   \n",
            "\n",
            "               Volume  \n",
            "Date                   \n",
            "2010-01-04   18748700  \n",
            "2010-01-05   22145700  \n",
            "2010-01-06   18643400  \n",
            "2010-01-07   26806800  \n",
            "2010-01-08   13752800  \n",
            "...               ...  \n",
            "2022-03-15  112425500  \n",
            "2022-03-16  113689800  \n",
            "2022-03-17  103201700  \n",
            "2022-03-18  105748100  \n",
            "2022-03-21  101803600  \n",
            "\n",
            "[3075 rows x 6 columns]\n",
            "shape :  (3075, 6)\n"
          ]
        }
      ]
    },
    {
      "cell_type": "code",
      "source": [
        "data.describe()"
      ],
      "metadata": {
        "colab": {
          "base_uri": "https://localhost:8080/",
          "height": 300
        },
        "id": "rNtmL2xQL7TV",
        "outputId": "9f9d696e-f48a-4388-8f63-696663659e98"
      },
      "execution_count": null,
      "outputs": [
        {
          "output_type": "execute_result",
          "data": {
            "text/plain": [
              "              Open         High          Low        Close    Adj Close  \\\n",
              "count  3075.000000  3075.000000  3075.000000  3075.000000  3075.000000   \n",
              "mean     23.515470    23.985984    23.013382    23.507034    23.507034   \n",
              "std      33.139347    33.805207    32.405912    33.113727    33.113727   \n",
              "min       1.620000     1.690000     1.610000     1.620000     1.620000   \n",
              "25%       3.930000     3.990000     3.850000     3.915000     3.915000   \n",
              "50%       8.140000     8.240000     8.000000     8.120000     8.120000   \n",
              "75%      26.950000    27.565001    26.240000    27.150000    27.150000   \n",
              "max     163.279999   164.460007   156.100006   161.910004   161.910004   \n",
              "\n",
              "             Volume  \n",
              "count  3.075000e+03  \n",
              "mean   4.196500e+07  \n",
              "std    3.490010e+07  \n",
              "min    0.000000e+00  \n",
              "25%    1.677880e+07  \n",
              "50%    3.251680e+07  \n",
              "75%    5.479720e+07  \n",
              "max    3.250584e+08  "
            ],
            "text/html": [
              "\n",
              "  <div id=\"df-dd1ecd44-50aa-4282-bd43-4c3e8bacd029\">\n",
              "    <div class=\"colab-df-container\">\n",
              "      <div>\n",
              "<style scoped>\n",
              "    .dataframe tbody tr th:only-of-type {\n",
              "        vertical-align: middle;\n",
              "    }\n",
              "\n",
              "    .dataframe tbody tr th {\n",
              "        vertical-align: top;\n",
              "    }\n",
              "\n",
              "    .dataframe thead th {\n",
              "        text-align: right;\n",
              "    }\n",
              "</style>\n",
              "<table border=\"1\" class=\"dataframe\">\n",
              "  <thead>\n",
              "    <tr style=\"text-align: right;\">\n",
              "      <th></th>\n",
              "      <th>Open</th>\n",
              "      <th>High</th>\n",
              "      <th>Low</th>\n",
              "      <th>Close</th>\n",
              "      <th>Adj Close</th>\n",
              "      <th>Volume</th>\n",
              "    </tr>\n",
              "  </thead>\n",
              "  <tbody>\n",
              "    <tr>\n",
              "      <th>count</th>\n",
              "      <td>3075.000000</td>\n",
              "      <td>3075.000000</td>\n",
              "      <td>3075.000000</td>\n",
              "      <td>3075.000000</td>\n",
              "      <td>3075.000000</td>\n",
              "      <td>3.075000e+03</td>\n",
              "    </tr>\n",
              "    <tr>\n",
              "      <th>mean</th>\n",
              "      <td>23.515470</td>\n",
              "      <td>23.985984</td>\n",
              "      <td>23.013382</td>\n",
              "      <td>23.507034</td>\n",
              "      <td>23.507034</td>\n",
              "      <td>4.196500e+07</td>\n",
              "    </tr>\n",
              "    <tr>\n",
              "      <th>std</th>\n",
              "      <td>33.139347</td>\n",
              "      <td>33.805207</td>\n",
              "      <td>32.405912</td>\n",
              "      <td>33.113727</td>\n",
              "      <td>33.113727</td>\n",
              "      <td>3.490010e+07</td>\n",
              "    </tr>\n",
              "    <tr>\n",
              "      <th>min</th>\n",
              "      <td>1.620000</td>\n",
              "      <td>1.690000</td>\n",
              "      <td>1.610000</td>\n",
              "      <td>1.620000</td>\n",
              "      <td>1.620000</td>\n",
              "      <td>0.000000e+00</td>\n",
              "    </tr>\n",
              "    <tr>\n",
              "      <th>25%</th>\n",
              "      <td>3.930000</td>\n",
              "      <td>3.990000</td>\n",
              "      <td>3.850000</td>\n",
              "      <td>3.915000</td>\n",
              "      <td>3.915000</td>\n",
              "      <td>1.677880e+07</td>\n",
              "    </tr>\n",
              "    <tr>\n",
              "      <th>50%</th>\n",
              "      <td>8.140000</td>\n",
              "      <td>8.240000</td>\n",
              "      <td>8.000000</td>\n",
              "      <td>8.120000</td>\n",
              "      <td>8.120000</td>\n",
              "      <td>3.251680e+07</td>\n",
              "    </tr>\n",
              "    <tr>\n",
              "      <th>75%</th>\n",
              "      <td>26.950000</td>\n",
              "      <td>27.565001</td>\n",
              "      <td>26.240000</td>\n",
              "      <td>27.150000</td>\n",
              "      <td>27.150000</td>\n",
              "      <td>5.479720e+07</td>\n",
              "    </tr>\n",
              "    <tr>\n",
              "      <th>max</th>\n",
              "      <td>163.279999</td>\n",
              "      <td>164.460007</td>\n",
              "      <td>156.100006</td>\n",
              "      <td>161.910004</td>\n",
              "      <td>161.910004</td>\n",
              "      <td>3.250584e+08</td>\n",
              "    </tr>\n",
              "  </tbody>\n",
              "</table>\n",
              "</div>\n",
              "      <button class=\"colab-df-convert\" onclick=\"convertToInteractive('df-dd1ecd44-50aa-4282-bd43-4c3e8bacd029')\"\n",
              "              title=\"Convert this dataframe to an interactive table.\"\n",
              "              style=\"display:none;\">\n",
              "        \n",
              "  <svg xmlns=\"http://www.w3.org/2000/svg\" height=\"24px\"viewBox=\"0 0 24 24\"\n",
              "       width=\"24px\">\n",
              "    <path d=\"M0 0h24v24H0V0z\" fill=\"none\"/>\n",
              "    <path d=\"M18.56 5.44l.94 2.06.94-2.06 2.06-.94-2.06-.94-.94-2.06-.94 2.06-2.06.94zm-11 1L8.5 8.5l.94-2.06 2.06-.94-2.06-.94L8.5 2.5l-.94 2.06-2.06.94zm10 10l.94 2.06.94-2.06 2.06-.94-2.06-.94-.94-2.06-.94 2.06-2.06.94z\"/><path d=\"M17.41 7.96l-1.37-1.37c-.4-.4-.92-.59-1.43-.59-.52 0-1.04.2-1.43.59L10.3 9.45l-7.72 7.72c-.78.78-.78 2.05 0 2.83L4 21.41c.39.39.9.59 1.41.59.51 0 1.02-.2 1.41-.59l7.78-7.78 2.81-2.81c.8-.78.8-2.07 0-2.86zM5.41 20L4 18.59l7.72-7.72 1.47 1.35L5.41 20z\"/>\n",
              "  </svg>\n",
              "      </button>\n",
              "      \n",
              "  <style>\n",
              "    .colab-df-container {\n",
              "      display:flex;\n",
              "      flex-wrap:wrap;\n",
              "      gap: 12px;\n",
              "    }\n",
              "\n",
              "    .colab-df-convert {\n",
              "      background-color: #E8F0FE;\n",
              "      border: none;\n",
              "      border-radius: 50%;\n",
              "      cursor: pointer;\n",
              "      display: none;\n",
              "      fill: #1967D2;\n",
              "      height: 32px;\n",
              "      padding: 0 0 0 0;\n",
              "      width: 32px;\n",
              "    }\n",
              "\n",
              "    .colab-df-convert:hover {\n",
              "      background-color: #E2EBFA;\n",
              "      box-shadow: 0px 1px 2px rgba(60, 64, 67, 0.3), 0px 1px 3px 1px rgba(60, 64, 67, 0.15);\n",
              "      fill: #174EA6;\n",
              "    }\n",
              "\n",
              "    [theme=dark] .colab-df-convert {\n",
              "      background-color: #3B4455;\n",
              "      fill: #D2E3FC;\n",
              "    }\n",
              "\n",
              "    [theme=dark] .colab-df-convert:hover {\n",
              "      background-color: #434B5C;\n",
              "      box-shadow: 0px 1px 3px 1px rgba(0, 0, 0, 0.15);\n",
              "      filter: drop-shadow(0px 1px 2px rgba(0, 0, 0, 0.3));\n",
              "      fill: #FFFFFF;\n",
              "    }\n",
              "  </style>\n",
              "\n",
              "      <script>\n",
              "        const buttonEl =\n",
              "          document.querySelector('#df-dd1ecd44-50aa-4282-bd43-4c3e8bacd029 button.colab-df-convert');\n",
              "        buttonEl.style.display =\n",
              "          google.colab.kernel.accessAllowed ? 'block' : 'none';\n",
              "\n",
              "        async function convertToInteractive(key) {\n",
              "          const element = document.querySelector('#df-dd1ecd44-50aa-4282-bd43-4c3e8bacd029');\n",
              "          const dataTable =\n",
              "            await google.colab.kernel.invokeFunction('convertToInteractive',\n",
              "                                                     [key], {});\n",
              "          if (!dataTable) return;\n",
              "\n",
              "          const docLinkHtml = 'Like what you see? Visit the ' +\n",
              "            '<a target=\"_blank\" href=https://colab.research.google.com/notebooks/data_table.ipynb>data table notebook</a>'\n",
              "            + ' to learn more about interactive tables.';\n",
              "          element.innerHTML = '';\n",
              "          dataTable['output_type'] = 'display_data';\n",
              "          await google.colab.output.renderOutput(dataTable, element);\n",
              "          const docLink = document.createElement('div');\n",
              "          docLink.innerHTML = docLinkHtml;\n",
              "          element.appendChild(docLink);\n",
              "        }\n",
              "      </script>\n",
              "    </div>\n",
              "  </div>\n",
              "  "
            ]
          },
          "metadata": {},
          "execution_count": 13
        }
      ]
    },
    {
      "cell_type": "code",
      "source": [
        "# Visualize the closing price history, AMD\n",
        "\n",
        "plt.figure(figsize=(24,10))\n",
        "plt.title('AMD')\n",
        "plt.plot(data['Close'])\n",
        "plt.xlabel('Date')\n",
        "plt.ylabel('Close Price USD($)')\n",
        "plt.show()"
      ],
      "metadata": {
        "colab": {
          "base_uri": "https://localhost:8080/",
          "height": 621
        },
        "id": "AGs1Td2Z9I-X",
        "outputId": "b62629a8-fb11-4424-95aa-587ac8a335cf"
      },
      "execution_count": null,
      "outputs": [
        {
          "output_type": "display_data",
          "data": {
            "text/plain": [
              "<Figure size 1728x720 with 1 Axes>"
            ],
            "image/png": "[encoded data removed]"
          },
          "metadata": {
            "needs_background": "light"
          }
        }
      ]
    },
    {
      "cell_type": "markdown",
      "source": [
        "# **Prepping The data**\n",
        "  To predict the stock price of the following data taking into consideration the prev 60 days data"
      ],
      "metadata": {
        "id": "R9P8evKIzDYT"
      }
    },
    {
      "cell_type": "code",
      "source": [
        "# import modules\n",
        "\n",
        "import math\n",
        "import numpy as np\n",
        "from sklearn.preprocessing import  MinMaxScaler\n",
        "from keras.models import Sequential \n",
        "from keras.layers import Dense, LSTM"
      ],
      "metadata": {
        "id": "5gBP0Q3FzJrg"
      },
      "execution_count": null,
      "outputs": []
    },
    {
      "cell_type": "code",
      "source": [
        "# create dataframe 'df' \n",
        "\n",
        "df = data.filter(['Close'])\n",
        "df"
      ],
      "metadata": {
        "colab": {
          "base_uri": "https://localhost:8080/",
          "height": 455
        },
        "id": "YsM-fm6U0M3R",
        "outputId": "7bfd40d7-bbd1-46b7-d8bd-3ef10a98e275"
      },
      "execution_count": null,
      "outputs": [
        {
          "output_type": "execute_result",
          "data": {
            "text/plain": [
              "                 Close\n",
              "Date                  \n",
              "2010-01-04    9.700000\n",
              "2010-01-05    9.710000\n",
              "2010-01-06    9.570000\n",
              "2010-01-07    9.470000\n",
              "2010-01-08    9.430000\n",
              "...                ...\n",
              "2022-03-15  109.330002\n",
              "2022-03-16  115.370003\n",
              "2022-03-17  111.690002\n",
              "2022-03-18  113.459999\n",
              "2022-03-21  115.919998\n",
              "\n",
              "[3075 rows x 1 columns]"
            ],
            "text/html": [
              "\n",
              "  <div id=\"df-374134fb-eb25-41e4-86e4-a0f25f718057\">\n",
              "    <div class=\"colab-df-container\">\n",
              "      <div>\n",
              "<style scoped>\n",
              "    .dataframe tbody tr th:only-of-type {\n",
              "        vertical-align: middle;\n",
              "    }\n",
              "\n",
              "    .dataframe tbody tr th {\n",
              "        vertical-align: top;\n",
              "    }\n",
              "\n",
              "    .dataframe thead th {\n",
              "        text-align: right;\n",
              "    }\n",
              "</style>\n",
              "<table border=\"1\" class=\"dataframe\">\n",
              "  <thead>\n",
              "    <tr style=\"text-align: right;\">\n",
              "      <th></th>\n",
              "      <th>Close</th>\n",
              "    </tr>\n",
              "    <tr>\n",
              "      <th>Date</th>\n",
              "      <th></th>\n",
              "    </tr>\n",
              "  </thead>\n",
              "  <tbody>\n",
              "    <tr>\n",
              "      <th>2010-01-04</th>\n",
              "      <td>9.700000</td>\n",
              "    </tr>\n",
              "    <tr>\n",
              "      <th>2010-01-05</th>\n",
              "      <td>9.710000</td>\n",
              "    </tr>\n",
              "    <tr>\n",
              "      <th>2010-01-06</th>\n",
              "      <td>9.570000</td>\n",
              "    </tr>\n",
              "    <tr>\n",
              "      <th>2010-01-07</th>\n",
              "      <td>9.470000</td>\n",
              "    </tr>\n",
              "    <tr>\n",
              "      <th>2010-01-08</th>\n",
              "      <td>9.430000</td>\n",
              "    </tr>\n",
              "    <tr>\n",
              "      <th>...</th>\n",
              "      <td>...</td>\n",
              "    </tr>\n",
              "    <tr>\n",
              "      <th>2022-03-15</th>\n",
              "      <td>109.330002</td>\n",
              "    </tr>\n",
              "    <tr>\n",
              "      <th>2022-03-16</th>\n",
              "      <td>115.370003</td>\n",
              "    </tr>\n",
              "    <tr>\n",
              "      <th>2022-03-17</th>\n",
              "      <td>111.690002</td>\n",
              "    </tr>\n",
              "    <tr>\n",
              "      <th>2022-03-18</th>\n",
              "      <td>113.459999</td>\n",
              "    </tr>\n",
              "    <tr>\n",
              "      <th>2022-03-21</th>\n",
              "      <td>115.919998</td>\n",
              "    </tr>\n",
              "  </tbody>\n",
              "</table>\n",
              "<p>3075 rows × 1 columns</p>\n",
              "</div>\n",
              "      <button class=\"colab-df-convert\" onclick=\"convertToInteractive('df-374134fb-eb25-41e4-86e4-a0f25f718057')\"\n",
              "              title=\"Convert this dataframe to an interactive table.\"\n",
              "              style=\"display:none;\">\n",
              "        \n",
              "  <svg xmlns=\"http://www.w3.org/2000/svg\" height=\"24px\"viewBox=\"0 0 24 24\"\n",
              "       width=\"24px\">\n",
              "    <path d=\"M0 0h24v24H0V0z\" fill=\"none\"/>\n",
              "    <path d=\"M18.56 5.44l.94 2.06.94-2.06 2.06-.94-2.06-.94-.94-2.06-.94 2.06-2.06.94zm-11 1L8.5 8.5l.94-2.06 2.06-.94-2.06-.94L8.5 2.5l-.94 2.06-2.06.94zm10 10l.94 2.06.94-2.06 2.06-.94-2.06-.94-.94-2.06-.94 2.06-2.06.94z\"/><path d=\"M17.41 7.96l-1.37-1.37c-.4-.4-.92-.59-1.43-.59-.52 0-1.04.2-1.43.59L10.3 9.45l-7.72 7.72c-.78.78-.78 2.05 0 2.83L4 21.41c.39.39.9.59 1.41.59.51 0 1.02-.2 1.41-.59l7.78-7.78 2.81-2.81c.8-.78.8-2.07 0-2.86zM5.41 20L4 18.59l7.72-7.72 1.47 1.35L5.41 20z\"/>\n",
              "  </svg>\n",
              "      </button>\n",
              "      \n",
              "  <style>\n",
              "    .colab-df-container {\n",
              "      display:flex;\n",
              "      flex-wrap:wrap;\n",
              "      gap: 12px;\n",
              "    }\n",
              "\n",
              "    .colab-df-convert {\n",
              "      background-color: #E8F0FE;\n",
              "      border: none;\n",
              "      border-radius: 50%;\n",
              "      cursor: pointer;\n",
              "      display: none;\n",
              "      fill: #1967D2;\n",
              "      height: 32px;\n",
              "      padding: 0 0 0 0;\n",
              "      width: 32px;\n",
              "    }\n",
              "\n",
              "    .colab-df-convert:hover {\n",
              "      background-color: #E2EBFA;\n",
              "      box-shadow: 0px 1px 2px rgba(60, 64, 67, 0.3), 0px 1px 3px 1px rgba(60, 64, 67, 0.15);\n",
              "      fill: #174EA6;\n",
              "    }\n",
              "\n",
              "    [theme=dark] .colab-df-convert {\n",
              "      background-color: #3B4455;\n",
              "      fill: #D2E3FC;\n",
              "    }\n",
              "\n",
              "    [theme=dark] .colab-df-convert:hover {\n",
              "      background-color: #434B5C;\n",
              "      box-shadow: 0px 1px 3px 1px rgba(0, 0, 0, 0.15);\n",
              "      filter: drop-shadow(0px 1px 2px rgba(0, 0, 0, 0.3));\n",
              "      fill: #FFFFFF;\n",
              "    }\n",
              "  </style>\n",
              "\n",
              "      <script>\n",
              "        const buttonEl =\n",
              "          document.querySelector('#df-374134fb-eb25-41e4-86e4-a0f25f718057 button.colab-df-convert');\n",
              "        buttonEl.style.display =\n",
              "          google.colab.kernel.accessAllowed ? 'block' : 'none';\n",
              "\n",
              "        async function convertToInteractive(key) {\n",
              "          const element = document.querySelector('#df-374134fb-eb25-41e4-86e4-a0f25f718057');\n",
              "          const dataTable =\n",
              "            await google.colab.kernel.invokeFunction('convertToInteractive',\n",
              "                                                     [key], {});\n",
              "          if (!dataTable) return;\n",
              "\n",
              "          const docLinkHtml = 'Like what you see? Visit the ' +\n",
              "            '<a target=\"_blank\" href=https://colab.research.google.com/notebooks/data_table.ipynb>data table notebook</a>'\n",
              "            + ' to learn more about interactive tables.';\n",
              "          element.innerHTML = '';\n",
              "          dataTable['output_type'] = 'display_data';\n",
              "          await google.colab.output.renderOutput(dataTable, element);\n",
              "          const docLink = document.createElement('div');\n",
              "          docLink.innerHTML = docLinkHtml;\n",
              "          element.appendChild(docLink);\n",
              "        }\n",
              "      </script>\n",
              "    </div>\n",
              "  </div>\n",
              "  "
            ]
          },
          "metadata": {},
          "execution_count": 16
        }
      ]
    },
    {
      "cell_type": "code",
      "source": [
        "# convert df to numpy array\n",
        "dataset = df.values\n",
        "dataset"
      ],
      "metadata": {
        "colab": {
          "base_uri": "https://localhost:8080/"
        },
        "id": "bn4yFpr21AjK",
        "outputId": "20657c79-85ef-49d4-e96e-0595e04775b1"
      },
      "execution_count": null,
      "outputs": [
        {
          "output_type": "execute_result",
          "data": {
            "text/plain": [
              "array([[  9.69999981],\n",
              "       [  9.71000004],\n",
              "       [  9.56999969],\n",
              "       ...,\n",
              "       [111.69000244],\n",
              "       [113.45999908],\n",
              "       [115.91999817]])"
            ]
          },
          "metadata": {},
          "execution_count": 17
        }
      ]
    },
    {
      "cell_type": "code",
      "source": [
        "# passing the data towards training \n",
        "\n",
        "training_data_len = math.ceil(len(dataset) * 0.92 ) # ~approx. 90% of the data\n",
        "training_data_len"
      ],
      "metadata": {
        "colab": {
          "base_uri": "https://localhost:8080/"
        },
        "id": "s1hWYGox1NGq",
        "outputId": "635f7b60-4d59-43df-e7b5-f42d8cbca0ab"
      },
      "execution_count": null,
      "outputs": [
        {
          "output_type": "execute_result",
          "data": {
            "text/plain": [
              "2829"
            ]
          },
          "metadata": {},
          "execution_count": 18
        }
      ]
    },
    {
      "cell_type": "code",
      "source": [
        "# Scale the data (preprocess data before sending to model)\n",
        "\n",
        "scaler = MinMaxScaler(feature_range=(0,1))\n",
        "scaled_dataset = scaler.fit_transform(dataset)\n",
        "scaled_dataset"
      ],
      "metadata": {
        "colab": {
          "base_uri": "https://localhost:8080/"
        },
        "id": "WSZa39k517P_",
        "outputId": "471ed9a5-b8cf-4c0e-ae67-08150ac430c4"
      },
      "execution_count": null,
      "outputs": [
        {
          "output_type": "execute_result",
          "data": {
            "text/plain": [
              "array([[0.05040863],\n",
              "       [0.05047102],\n",
              "       [0.0495976 ],\n",
              "       ...,\n",
              "       [0.68669287],\n",
              "       [0.69773533],\n",
              "       [0.71308251]])"
            ]
          },
          "metadata": {},
          "execution_count": 19
        }
      ]
    },
    {
      "cell_type": "code",
      "source": [
        "# creating the training dataset\n",
        "\n",
        "train_data = scaled_dataset[:training_data_len, : ]\n",
        "\n",
        "# split train_data into x_train and y_train\n",
        "\n",
        "x_train = []  # to be independent training var.\n",
        "y_train = []  # to be dependent training var.\n",
        "\n",
        "for i in range (60, len(train_data)):\n",
        "  x_train.append(train_data[i-60:i, 0]) # data(0....59) 60 values\n",
        "  y_train.append(train_data[i, 0])      # 61st value\n",
        "  if i<= 60:\n",
        "    print(x_train)\n",
        "    print(y_train)\n",
        "    print()"
      ],
      "metadata": {
        "colab": {
          "base_uri": "https://localhost:8080/"
        },
        "id": "1ytNBn0z33pw",
        "outputId": "904d1197-a81a-40fc-e588-2722b9315a29"
      },
      "execution_count": null,
      "outputs": [
        {
          "output_type": "stream",
          "name": "stdout",
          "text": [
            "[array([0.05040863, 0.05047102, 0.0495976 , 0.04897374, 0.04872419,\n",
            "       0.04691497, 0.043858  , 0.04697735, 0.04604155, 0.04504336,\n",
            "       0.04610394, 0.04523052, 0.04597916, 0.03905421, 0.04023956,\n",
            "       0.04036434, 0.04098821, 0.03905421, 0.03643396, 0.03967808,\n",
            "       0.03924137, 0.0386175 , 0.03474952, 0.03574771, 0.03618442,\n",
            "       0.03693306, 0.03755693, 0.03880467, 0.03899183, 0.04017718,\n",
            "       0.03999002, 0.03949092, 0.03936615, 0.03917899, 0.03849273,\n",
            "       0.04011479, 0.0391166 , 0.03924137, 0.04111298, 0.04217356,\n",
            "       0.0419864 , 0.0429222 , 0.04360846, 0.04379562, 0.04373323,\n",
            "       0.04554245, 0.04572961, 0.04560484, 0.04554245, 0.04853702,\n",
            "       0.05022147, 0.04847464, 0.0467278 , 0.04797555, 0.04884896,\n",
            "       0.04747644, 0.04622871, 0.04616633, 0.0467278 , 0.047726  ])]\n",
            "[0.047725998368239125]\n",
            "\n"
          ]
        }
      ]
    },
    {
      "cell_type": "code",
      "source": [
        "# convert x_train, y_train to np arrays\n",
        "\n",
        "x_train = np.array(x_train)\n",
        "y_train = np.array(y_train)\n",
        "\n",
        "print(x_train.shape)"
      ],
      "metadata": {
        "colab": {
          "base_uri": "https://localhost:8080/"
        },
        "id": "MLLqyUve-riU",
        "outputId": "4aa376b8-660a-4fe0-fcee-b5b7000435df"
      },
      "execution_count": null,
      "outputs": [
        {
          "output_type": "stream",
          "name": "stdout",
          "text": [
            "(2769, 60)\n"
          ]
        }
      ]
    },
    {
      "cell_type": "code",
      "source": [
        "# reshape the data\n",
        " \n",
        "x_train = np.reshape(x_train, (x_train.shape[0], x_train.shape[1], 1 ))\n",
        "                              # no. rows       , no. col (60)    , no.of feature: 'Close'\n",
        "x_train.shape"
      ],
      "metadata": {
        "colab": {
          "base_uri": "https://localhost:8080/"
        },
        "id": "JzjLmo8O_LSb",
        "outputId": "28f80bf4-b366-4f1d-ed00-c30917740fc0"
      },
      "execution_count": null,
      "outputs": [
        {
          "output_type": "execute_result",
          "data": {
            "text/plain": [
              "(2769, 60, 1)"
            ]
          },
          "metadata": {},
          "execution_count": 22
        }
      ]
    },
    {
      "cell_type": "markdown",
      "source": [
        "# **Building The Model**"
      ],
      "metadata": {
        "id": "2rIY3tIUFCqg"
      }
    },
    {
      "cell_type": "code",
      "source": [
        "# imports\n",
        "\n",
        "import math\n",
        "import numpy as np\n",
        "from sklearn.preprocessing import  MinMaxScaler\n",
        "from keras.models import Sequential \n",
        "from keras.layers import Dense, LSTM"
      ],
      "metadata": {
        "id": "uLNyi8_vFKL5"
      },
      "execution_count": null,
      "outputs": []
    },
    {
      "cell_type": "code",
      "source": [
        "from keras.backend import dropout\n",
        "# Build LSTM model\n",
        "\n",
        "model = Sequential()\n",
        "\n",
        "model.add(LSTM (50, return_sequences= True, input_shape=(x_train.shape[1], 1)))\n",
        "              # no. nueorons , return to next.. , for 1st lyr : input_shape\n",
        "model.add(Dense(50))\n",
        "model.add(LSTM (50, return_sequences= True))\n",
        "model.add(Dense(25))\n",
        "model.add(LSTM (50, return_sequences= False))\n",
        "model.add(Dense(1))"
      ],
      "metadata": {
        "id": "zT2d5MzUFTgR"
      },
      "execution_count": null,
      "outputs": []
    },
    {
      "cell_type": "code",
      "source": [
        "# compile the model\n",
        "\n",
        "model.compile(optimizer= 'adam', loss= 'mean_squared_error')"
      ],
      "metadata": {
        "id": "ycPlfwjdHQPY"
      },
      "execution_count": null,
      "outputs": []
    },
    {
      "cell_type": "code",
      "source": [
        "# Train the model\n",
        "\n",
        "model.fit(x_train, y_train, batch_size= 1, epochs= 1)"
      ],
      "metadata": {
        "colab": {
          "base_uri": "https://localhost:8080/"
        },
        "id": "Zj96FwdLHkwN",
        "outputId": "b993f7e5-77d4-414f-a9d3-6fd1def906da"
      },
      "execution_count": null,
      "outputs": [
        {
          "output_type": "stream",
          "name": "stdout",
          "text": [
            "2769/2769 [==============================] - 152s 53ms/step - loss: 0.0011\n"
          ]
        },
        {
          "output_type": "execute_result",
          "data": {
            "text/plain": [
              "<keras.callbacks.History at 0x7fa80e128d50>"
            ]
          },
          "metadata": {},
          "execution_count": 26
        }
      ]
    },
    {
      "cell_type": "markdown",
      "source": [
        "# **Testing the model**"
      ],
      "metadata": {
        "id": "BlMoVFTuIqig"
      }
    },
    {
      "cell_type": "code",
      "source": [
        "# create testing data set\n",
        "\n",
        "test_data = scaled_dataset[training_data_len- 60: , : ]\n",
        "len(test_data)"
      ],
      "metadata": {
        "colab": {
          "base_uri": "https://localhost:8080/"
        },
        "id": "I8wLL3CPIvz3",
        "outputId": "8d1446df-01b2-499a-c7dd-0071d518ab5b"
      },
      "execution_count": null,
      "outputs": [
        {
          "output_type": "execute_result",
          "data": {
            "text/plain": [
              "306"
            ]
          },
          "metadata": {},
          "execution_count": 27
        }
      ]
    },
    {
      "cell_type": "code",
      "source": [
        "#create x_test , y_test\n",
        "\n",
        "x_test = []\n",
        "y_test = dataset[training_data_len:, : ]\n",
        "for i in range(60, len(test_data)):\n",
        "  x_test.append(test_data[i-60:i, 0])\n"
      ],
      "metadata": {
        "id": "zwgHLrs9Jdbq"
      },
      "execution_count": null,
      "outputs": []
    },
    {
      "cell_type": "code",
      "source": [
        "# covert data to np array\n",
        "x_test = np.array(x_test)\n",
        "\n",
        "# reshape data to 3d \n",
        "x_test = np.reshape(x_test, (x_test.shape[0], x_test.shape[1], 1))"
      ],
      "metadata": {
        "id": "-BWt3sCDjnCM"
      },
      "execution_count": null,
      "outputs": []
    },
    {
      "cell_type": "code",
      "source": [
        "# get the models predicted price\n",
        "predictions = model.predict(x_test)\n",
        "predictions = scaler.inverse_transform(predictions)\n"
      ],
      "metadata": {
        "id": "Aef9kJlBjzot"
      },
      "execution_count": null,
      "outputs": []
    },
    {
      "cell_type": "code",
      "source": [
        "# get the root_mean_squared_error (RMSE)\n",
        "\n",
        "rmse = np.sqrt(np.mean(predictions - y_test)**2)\n",
        "rmse"
      ],
      "metadata": {
        "colab": {
          "base_uri": "https://localhost:8080/"
        },
        "id": "z9imaxrckMOA",
        "outputId": "a09f970a-f3db-4b6c-e97e-5a79c31e4b62"
      },
      "execution_count": null,
      "outputs": [
        {
          "output_type": "execute_result",
          "data": {
            "text/plain": [
              "2.0427364256323837"
            ]
          },
          "metadata": {},
          "execution_count": 31
        }
      ]
    },
    {
      "cell_type": "code",
      "source": [
        "# plot data\n",
        "\n",
        "train = df[:training_data_len]\n",
        "valid = df[training_data_len:]\n",
        "valid['Predictions'] = predictions\n",
        "\n",
        "# visualize\n",
        "plt.figure(figsize= (24,10))\n",
        "plt.title('Model Prediction')\n",
        "plt.xlabel('Date')\n",
        "plt.ylabel('Close price USD $')\n",
        "plt.plot(train['Close'])\n",
        "plt.plot(valid[['Close', 'Predictions']])\n",
        "plt.legend(['Train', 'Validation', 'Predictions'], loc='upper left')\n",
        "plt.show()"
      ],
      "metadata": {
        "colab": {
          "base_uri": "https://localhost:8080/",
          "height": 730
        },
        "id": "TJ1nO0Fmlx21",
        "outputId": "7654288a-c6ad-44c1-f572-9e951287cabd"
      },
      "execution_count": null,
      "outputs": [
        {
          "output_type": "stream",
          "name": "stderr",
          "text": [
            "/usr/local/lib/python3.7/dist-packages/ipykernel_launcher.py:5: SettingWithCopyWarning: \n",
            "A value is trying to be set on a copy of a slice from a DataFrame.\n",
            "Try using .loc[row_indexer,col_indexer] = value instead\n",
            "\n",
            "See the caveats in the documentation: https://pandas.pydata.org/pandas-docs/stable/user_guide/indexing.html#returning-a-view-versus-a-copy\n",
            "  \"\"\"\n"
          ]
        },
        {
          "output_type": "display_data",
          "data": {
            "text/plain": [
              "<Figure size 1728x720 with 1 Axes>"
            ],
            "image/png": "[encoded data removed]"
          },
          "metadata": {
            "needs_background": "light"
          }
        }
      ]
    },
    {
      "cell_type": "code",
      "source": [
        "# show the predicted and actual price\n",
        "valid"
      ],
      "metadata": {
        "colab": {
          "base_uri": "https://localhost:8080/",
          "height": 455
        },
        "id": "VQ5G_S36p0nj",
        "outputId": "c0a8dd81-8c4e-44d5-808d-eed0e43ec471"
      },
      "execution_count": null,
      "outputs": [
        {
          "output_type": "execute_result",
          "data": {
            "text/plain": [
              "                 Close  Predictions\n",
              "Date                               \n",
              "2021-03-31   78.500000    83.730164\n",
              "2021-04-01   81.089996    83.454559\n",
              "2021-04-05   81.430000    83.391335\n",
              "2021-04-06   81.440002    83.532478\n",
              "2021-04-07   82.199997    83.817711\n",
              "...                ...          ...\n",
              "2022-03-15  109.330002   109.455170\n",
              "2022-03-16  115.370003   108.830933\n",
              "2022-03-17  111.690002   108.648460\n",
              "2022-03-18  113.459999   108.738327\n",
              "2022-03-21  115.919998   109.038895\n",
              "\n",
              "[246 rows x 2 columns]"
            ],
            "text/html": [
              "\n",
              "  <div id=\"df-bbe339f0-72de-4381-8257-806ef553875b\">\n",
              "    <div class=\"colab-df-container\">\n",
              "      <div>\n",
              "<style scoped>\n",
              "    .dataframe tbody tr th:only-of-type {\n",
              "        vertical-align: middle;\n",
              "    }\n",
              "\n",
              "    .dataframe tbody tr th {\n",
              "        vertical-align: top;\n",
              "    }\n",
              "\n",
              "    .dataframe thead th {\n",
              "        text-align: right;\n",
              "    }\n",
              "</style>\n",
              "<table border=\"1\" class=\"dataframe\">\n",
              "  <thead>\n",
              "    <tr style=\"text-align: right;\">\n",
              "      <th></th>\n",
              "      <th>Close</th>\n",
              "      <th>Predictions</th>\n",
              "    </tr>\n",
              "    <tr>\n",
              "      <th>Date</th>\n",
              "      <th></th>\n",
              "      <th></th>\n",
              "    </tr>\n",
              "  </thead>\n",
              "  <tbody>\n",
              "    <tr>\n",
              "      <th>2021-03-31</th>\n",
              "      <td>78.500000</td>\n",
              "      <td>83.730164</td>\n",
              "    </tr>\n",
              "    <tr>\n",
              "      <th>2021-04-01</th>\n",
              "      <td>81.089996</td>\n",
              "      <td>83.454559</td>\n",
              "    </tr>\n",
              "    <tr>\n",
              "      <th>2021-04-05</th>\n",
              "      <td>81.430000</td>\n",
              "      <td>83.391335</td>\n",
              "    </tr>\n",
              "    <tr>\n",
              "      <th>2021-04-06</th>\n",
              "      <td>81.440002</td>\n",
              "      <td>83.532478</td>\n",
              "    </tr>\n",
              "    <tr>\n",
              "      <th>2021-04-07</th>\n",
              "      <td>82.199997</td>\n",
              "      <td>83.817711</td>\n",
              "    </tr>\n",
              "    <tr>\n",
              "      <th>...</th>\n",
              "      <td>...</td>\n",
              "      <td>...</td>\n",
              "    </tr>\n",
              "    <tr>\n",
              "      <th>2022-03-15</th>\n",
              "      <td>109.330002</td>\n",
              "      <td>109.455170</td>\n",
              "    </tr>\n",
              "    <tr>\n",
              "      <th>2022-03-16</th>\n",
              "      <td>115.370003</td>\n",
              "      <td>108.830933</td>\n",
              "    </tr>\n",
              "    <tr>\n",
              "      <th>2022-03-17</th>\n",
              "      <td>111.690002</td>\n",
              "      <td>108.648460</td>\n",
              "    </tr>\n",
              "    <tr>\n",
              "      <th>2022-03-18</th>\n",
              "      <td>113.459999</td>\n",
              "      <td>108.738327</td>\n",
              "    </tr>\n",
              "    <tr>\n",
              "      <th>2022-03-21</th>\n",
              "      <td>115.919998</td>\n",
              "      <td>109.038895</td>\n",
              "    </tr>\n",
              "  </tbody>\n",
              "</table>\n",
              "<p>246 rows × 2 columns</p>\n",
              "</div>\n",
              "      <button class=\"colab-df-convert\" onclick=\"convertToInteractive('df-bbe339f0-72de-4381-8257-806ef553875b')\"\n",
              "              title=\"Convert this dataframe to an interactive table.\"\n",
              "              style=\"display:none;\">\n",
              "        \n",
              "  <svg xmlns=\"http://www.w3.org/2000/svg\" height=\"24px\"viewBox=\"0 0 24 24\"\n",
              "       width=\"24px\">\n",
              "    <path d=\"M0 0h24v24H0V0z\" fill=\"none\"/>\n",
              "    <path d=\"M18.56 5.44l.94 2.06.94-2.06 2.06-.94-2.06-.94-.94-2.06-.94 2.06-2.06.94zm-11 1L8.5 8.5l.94-2.06 2.06-.94-2.06-.94L8.5 2.5l-.94 2.06-2.06.94zm10 10l.94 2.06.94-2.06 2.06-.94-2.06-.94-.94-2.06-.94 2.06-2.06.94z\"/><path d=\"M17.41 7.96l-1.37-1.37c-.4-.4-.92-.59-1.43-.59-.52 0-1.04.2-1.43.59L10.3 9.45l-7.72 7.72c-.78.78-.78 2.05 0 2.83L4 21.41c.39.39.9.59 1.41.59.51 0 1.02-.2 1.41-.59l7.78-7.78 2.81-2.81c.8-.78.8-2.07 0-2.86zM5.41 20L4 18.59l7.72-7.72 1.47 1.35L5.41 20z\"/>\n",
              "  </svg>\n",
              "      </button>\n",
              "      \n",
              "  <style>\n",
              "    .colab-df-container {\n",
              "      display:flex;\n",
              "      flex-wrap:wrap;\n",
              "      gap: 12px;\n",
              "    }\n",
              "\n",
              "    .colab-df-convert {\n",
              "      background-color: #E8F0FE;\n",
              "      border: none;\n",
              "      border-radius: 50%;\n",
              "      cursor: pointer;\n",
              "      display: none;\n",
              "      fill: #1967D2;\n",
              "      height: 32px;\n",
              "      padding: 0 0 0 0;\n",
              "      width: 32px;\n",
              "    }\n",
              "\n",
              "    .colab-df-convert:hover {\n",
              "      background-color: #E2EBFA;\n",
              "      box-shadow: 0px 1px 2px rgba(60, 64, 67, 0.3), 0px 1px 3px 1px rgba(60, 64, 67, 0.15);\n",
              "      fill: #174EA6;\n",
              "    }\n",
              "\n",
              "    [theme=dark] .colab-df-convert {\n",
              "      background-color: #3B4455;\n",
              "      fill: #D2E3FC;\n",
              "    }\n",
              "\n",
              "    [theme=dark] .colab-df-convert:hover {\n",
              "      background-color: #434B5C;\n",
              "      box-shadow: 0px 1px 3px 1px rgba(0, 0, 0, 0.15);\n",
              "      filter: drop-shadow(0px 1px 2px rgba(0, 0, 0, 0.3));\n",
              "      fill: #FFFFFF;\n",
              "    }\n",
              "  </style>\n",
              "\n",
              "      <script>\n",
              "        const buttonEl =\n",
              "          document.querySelector('#df-bbe339f0-72de-4381-8257-806ef553875b button.colab-df-convert');\n",
              "        buttonEl.style.display =\n",
              "          google.colab.kernel.accessAllowed ? 'block' : 'none';\n",
              "\n",
              "        async function convertToInteractive(key) {\n",
              "          const element = document.querySelector('#df-bbe339f0-72de-4381-8257-806ef553875b');\n",
              "          const dataTable =\n",
              "            await google.colab.kernel.invokeFunction('convertToInteractive',\n",
              "                                                     [key], {});\n",
              "          if (!dataTable) return;\n",
              "\n",
              "          const docLinkHtml = 'Like what you see? Visit the ' +\n",
              "            '<a target=\"_blank\" href=https://colab.research.google.com/notebooks/data_table.ipynb>data table notebook</a>'\n",
              "            + ' to learn more about interactive tables.';\n",
              "          element.innerHTML = '';\n",
              "          dataTable['output_type'] = 'display_data';\n",
              "          await google.colab.output.renderOutput(dataTable, element);\n",
              "          const docLink = document.createElement('div');\n",
              "          docLink.innerHTML = docLinkHtml;\n",
              "          element.appendChild(docLink);\n",
              "        }\n",
              "      </script>\n",
              "    </div>\n",
              "  </div>\n",
              "  "
            ]
          },
          "metadata": {},
          "execution_count": 33
        }
      ]
    },
    {
      "cell_type": "markdown",
      "source": [
        "# New Section"
      ],
      "metadata": {
        "id": "1CCITCKZrmJk"
      }
    }
  ]
}